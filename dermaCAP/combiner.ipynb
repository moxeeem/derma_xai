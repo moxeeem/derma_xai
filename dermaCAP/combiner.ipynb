{
 "cells": [
  {
   "cell_type": "markdown",
   "id": "0ab711bb",
   "metadata": {},
   "source": [
    "# dermaCAP combiner"
   ]
  },
  {
   "cell_type": "code",
   "execution_count": 1,
   "id": "8143cabf",
   "metadata": {},
   "outputs": [],
   "source": [
    "from pathlib import Path\n",
    "import shutil, hashlib\n",
    "import pandas as pd\n",
    "from PIL import Image, ImageFile\n",
    "from tqdm import tqdm\n",
    "import os\n",
    "\n",
    "from concurrent.futures import ProcessPoolExecutor, as_completed\n",
    "from PIL import UnidentifiedImageError"
   ]
  },
  {
   "cell_type": "code",
   "execution_count": null,
   "id": "724bd93e",
   "metadata": {},
   "outputs": [],
   "source": [
    "BASE_DIR          = Path(\"/workspace/clip_xai/dermaCAP\")\n",
    "\n",
    "AIMI_CSV          = BASE_DIR / \"aimi_prepared.csv\"          \n",
    "HAM_CSV           = BASE_DIR / \"ham10000_prepared.csv\"     \n",
    "PAD_UFES_CSV      = BASE_DIR / \"pad_ufes_prepared.csv\"      \n",
    "SKINCAP_CSV       = BASE_DIR / \"skincap_prepared.csv\"      \n",
    "\n",
    "FINAL_DIR         = BASE_DIR / \"dermaCAP_v1\"            \n",
    "FINAL_IMG_DIR     = FINAL_DIR / \"dermaCAP_img\"\n",
    "FINAL_CSV         = FINAL_DIR / \"dermaCAP_v1.csv\"\n",
    "FINAL_ZIP_BASENAME= BASE_DIR / \"dermaCAP_v1\"           \n",
    "\n",
    "IMG_EXT           = \".png\"\n",
    "SRC_HAM           = \"ham10000\"\n",
    "SRC_PAD           = \"pad_ufes\"\n",
    "SRC_SKIN          = \"skincap\""
   ]
  },
  {
   "cell_type": "code",
   "execution_count": null,
   "id": "47a8f36e",
   "metadata": {},
   "outputs": [],
   "source": [
    "aimi = pd.read_csv(AIMI_CSV)\n",
    "ham  = pd.read_csv(HAM_CSV)\n",
    "pad  = pd.read_csv(PAD_UFES_CSV)\n",
    "skin = pd.read_csv(SKINCAP_CSV)\n",
    "\n",
    "ham[\"source\"]  = SRC_HAM\n",
    "pad[\"source\"]  = SRC_PAD\n",
    "skin[\"source\"] = SRC_SKIN\n",
    "skin[\"caption\"] = skin[\"caption_gpt\"]\n",
    "\n",
    "aimi = aimi[[\"img_path\", \"caption\", \"source\"]]\n",
    "ham  = ham[[\"img_path\", \"caption\", \"source\"]]\n",
    "pad  = pad[[\"img_path\", \"caption\", \"source\"]]\n",
    "skin = skin[[\"img_path\", \"caption\", \"source\"]]\n",
    "\n",
    "df = pd.concat([aimi, ham, pad, skin], ignore_index=True)"
   ]
  },
  {
   "cell_type": "code",
   "execution_count": null,
   "id": "69583ad5",
   "metadata": {},
   "outputs": [],
   "source": [
    "if FINAL_DIR.exists():\n",
    "    shutil.rmtree(FINAL_DIR)\n",
    "FINAL_IMG_DIR.mkdir(parents=True, exist_ok=True)"
   ]
  },
  {
   "cell_type": "code",
   "execution_count": null,
   "id": "1c5845d7",
   "metadata": {},
   "outputs": [],
   "source": [
    "ImageFile.LOAD_TRUNCATED_IMAGES = True"
   ]
  },
  {
   "cell_type": "code",
   "execution_count": null,
   "id": "fb99463a",
   "metadata": {},
   "outputs": [],
   "source": [
    "MAX_WORKERS = min(32, os.cpu_count() or 8)"
   ]
  },
  {
   "cell_type": "code",
   "execution_count": null,
   "id": "a45e0f7a",
   "metadata": {},
   "outputs": [],
   "source": [
    "def _process_one(idx, src_path_str, src_tag, img_ext, out_dir):\n",
    "    src_path = Path(src_path_str)\n",
    "\n",
    "    if not src_path.exists():\n",
    "        return idx, None, None, f\"файл не найден\"\n",
    "\n",
    "    h = hashlib.sha1(str(src_path).encode(\"utf-8\")).hexdigest()[:12]\n",
    "    new_name = f\"derma_{src_tag}_{h}{img_ext}\"\n",
    "    dst_path = Path(out_dir) / new_name\n",
    "\n",
    "    try:\n",
    "        if src_path.suffix.lower() == \".png\":\n",
    "            shutil.copy2(src_path, dst_path)\n",
    "        else:\n",
    "            with Image.open(src_path) as im:\n",
    "                im.load()\n",
    "                if im.mode in (\"RGBA\", \"LA\", \"P\"):\n",
    "                    im = im.convert(\"RGBA\")\n",
    "                else:\n",
    "                    im = im.convert(\"RGB\")\n",
    "                im.save(dst_path, format=\"PNG\", compress_level=1, optimize=False)\n",
    "        return idx, dst_path.as_posix(), new_name, None\n",
    "\n",
    "    except UnidentifiedImageError:\n",
    "        return idx, None, None, \"битое/не читается (UnidentifiedImageError)\"\n",
    "    except Exception as e:\n",
    "        return idx, None, None, f\"ошибка: {e.__class__.__name__}\""
   ]
  },
  {
   "cell_type": "code",
   "execution_count": null,
   "id": "6ab537d6",
   "metadata": {},
   "outputs": [],
   "source": [
    "tasks = list(df[[\"img_path\", \"source\"]].itertuples(index=True, name=None))"
   ]
  },
  {
   "cell_type": "code",
   "execution_count": null,
   "id": "91ac09ba",
   "metadata": {},
   "outputs": [],
   "source": [
    "kept_idx, new_paths, new_names = [], {}, {}"
   ]
  },
  {
   "cell_type": "code",
   "execution_count": null,
   "id": "7d6a0933",
   "metadata": {},
   "outputs": [],
   "source": [
    "with ProcessPoolExecutor(max_workers=MAX_WORKERS) as ex:\n",
    "    futures = [\n",
    "        ex.submit(_process_one, idx, src_path, src_tag, IMG_EXT, FINAL_IMG_DIR)\n",
    "        for (idx, src_path, src_tag) in tasks\n",
    "    ]\n",
    "    for fut in tqdm(as_completed(futures), total=len(futures), desc=\"Copy/convert\"):\n",
    "        idx, new_path, new_name, err = fut.result()\n",
    "        if err:\n",
    "            print(f\"Пропущен {Path(df.at[idx, 'img_path']).name} (Причина: {err})\")\n",
    "            continue\n",
    "        kept_idx.append(idx)\n",
    "        new_paths[idx] = new_path\n",
    "        new_names[idx] = new_name"
   ]
  },
  {
   "cell_type": "code",
   "execution_count": null,
   "id": "15bf6dd4",
   "metadata": {},
   "outputs": [],
   "source": [
    "kept_idx.sort()\n",
    "df = df.loc[kept_idx].copy()\n",
    "df[\"img_path\"] = [new_paths[i] for i in kept_idx]\n",
    "df[\"img_name\"] = [new_names[i] for i in kept_idx]"
   ]
  },
  {
   "cell_type": "code",
   "execution_count": null,
   "id": "3cb70389",
   "metadata": {},
   "outputs": [],
   "source": [
    "FINAL_DIR.mkdir(parents=True, exist_ok=True)\n",
    "df[[\"img_path\", \"caption\", \"source\", \"img_name\"]].to_csv(FINAL_CSV, index=False, encoding=\"utf-8\")\n",
    "print(f\"Saved CSV: {FINAL_CSV} | rows: {len(df)}\")"
   ]
  },
  {
   "cell_type": "code",
   "execution_count": null,
   "id": "46b3e381",
   "metadata": {},
   "outputs": [],
   "source": [
    "shutil.make_archive(str(FINAL_ZIP_BASENAME), \"zip\", root_dir=FINAL_DIR)\n",
    "print(f\"ZIP created: {FINAL_ZIP_BASENAME}.zip\")"
   ]
  }
 ],
 "metadata": {
  "kernelspec": {
   "display_name": "venv",
   "language": "python",
   "name": "python3"
  },
  "language_info": {
   "codemirror_mode": {
    "name": "ipython",
    "version": 3
   },
   "file_extension": ".py",
   "mimetype": "text/x-python",
   "name": "python",
   "nbconvert_exporter": "python",
   "pygments_lexer": "ipython3",
   "version": "3.12.11"
  }
 },
 "nbformat": 4,
 "nbformat_minor": 5
}
